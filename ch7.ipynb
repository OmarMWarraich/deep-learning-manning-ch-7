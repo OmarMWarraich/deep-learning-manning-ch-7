{
 "cells": [
  {
   "cell_type": "markdown",
   "metadata": {},
   "source": [
    "# Advanced Deep Learning Best Practices"
   ]
  },
  {
   "cell_type": "markdown",
   "metadata": {},
   "source": [
    "## 7.1.1 Introduction to the functional API"
   ]
  },
  {
   "cell_type": "code",
   "execution_count": 2,
   "metadata": {},
   "outputs": [],
   "source": [
    "from keras import Input, layers\n",
    "input_tensor = Input (shape=(32,))     # A tensor\n",
    "dense = layers.Dense(32, activation = 'relu')   # A layer is a function\n",
    "output_tensor = dense(input_tensor)         # A layer may be called a tensor and it returns a tensor"
   ]
  },
  {
   "cell_type": "markdown",
   "metadata": {},
   "source": [
    "### Minimal Eg., Sequential Model with its eq in functional API side by side:-"
   ]
  },
  {
   "cell_type": "code",
   "execution_count": 4,
   "metadata": {},
   "outputs": [
    {
     "name": "stdout",
     "output_type": "stream",
     "text": [
      "Model: \"model_1\"\n",
      "_________________________________________________________________\n",
      "Layer (type)                 Output Shape              Param #   \n",
      "=================================================================\n",
      "input_4 (InputLayer)         [(None, 64)]              0         \n",
      "_________________________________________________________________\n",
      "dense_11 (Dense)             (None, 32)                2080      \n",
      "_________________________________________________________________\n",
      "dense_12 (Dense)             (None, 32)                1056      \n",
      "_________________________________________________________________\n",
      "dense_13 (Dense)             (None, 10)                330       \n",
      "=================================================================\n",
      "Total params: 3,466\n",
      "Trainable params: 3,466\n",
      "Non-trainable params: 0\n",
      "_________________________________________________________________\n"
     ]
    }
   ],
   "source": [
    "from keras.models import Sequential, Model\n",
    "from keras import layers\n",
    "from keras import Input\n",
    "\n",
    "seq_model = Sequential()       # Seq Md\n",
    "seq_model.add(layers.Dense(32, activation='relu', input_shape=(64,)))\n",
    "seq_model.add(layers.Dense(32, activation='relu'))\n",
    "seq_model.add(layers.Dense(10, activation='softmax'))\n",
    "\n",
    "input_tensor = Input(shape=(64,))\n",
    "x = layers.Dense(32, activation='relu')(input_tensor)\n",
    "x = layers.Dense(32, activation='relu')(x)\n",
    "output_tensor = layers.Dense(10, activation='softmax')(x)    # Func eq\n",
    "\n",
    "model = Model(input_tensor, output_tensor)   # The Model class turns an input tensor and output tensor in2 a model\n",
    "\n",
    "model.summary()"
   ]
  },
  {
   "cell_type": "markdown",
   "metadata": {},
   "source": [
    "#### The APi is same as that of sequntial when it comes to compiling training or evaluating such an instance of the model"
   ]
  },
  {
   "cell_type": "code",
   "execution_count": 7,
   "metadata": {},
   "outputs": [
    {
     "name": "stdout",
     "output_type": "stream",
     "text": [
      "Epoch 1/10\n",
      "8/8 [==============================] - 1s 10ms/step - loss: 11.6619\n",
      "Epoch 2/10\n",
      "8/8 [==============================] - 0s 5ms/step - loss: 12.0640\n",
      "Epoch 3/10\n",
      "8/8 [==============================] - 0s 3ms/step - loss: 13.2961\n",
      "Epoch 4/10\n",
      "8/8 [==============================] - 0s 3ms/step - loss: 15.5378\n",
      "Epoch 5/10\n",
      "8/8 [==============================] - 0s 3ms/step - loss: 18.5664\n",
      "Epoch 6/10\n",
      "8/8 [==============================] - 0s 3ms/step - loss: 22.3507\n",
      "Epoch 7/10\n",
      "8/8 [==============================] - 0s 2ms/step - loss: 26.6558\n",
      "Epoch 8/10\n",
      "8/8 [==============================] - 0s 3ms/step - loss: 31.2001\n",
      "Epoch 9/10\n",
      "8/8 [==============================] - 0s 3ms/step - loss: 36.5949\n",
      "Epoch 10/10\n",
      "8/8 [==============================] - 0s 3ms/step - loss: 42.2958\n",
      "32/32 [==============================] - 0s 922us/step - loss: 47.2152\n"
     ]
    }
   ],
   "source": [
    "model.compile(optimizer='rmsprop', loss='categorical_crossentropy')  # Compiles the model\n",
    "\n",
    "import numpy as np\n",
    "x_train = np.random.random((1000, 64))\n",
    "y_train = np.random.random((1000, 10))         # Gen dummy numpy data to train on\n",
    "\n",
    "model.fit(x_train, y_train,epochs=10, batch_size=128)     # Trains the model for 10 epochs\n",
    "score = model.evaluate(x_train, y_train)       # evaluates the model"
   ]
  },
  {
   "cell_type": "code",
   "execution_count": null,
   "metadata": {},
   "outputs": [],
   "source": []
  }
 ],
 "metadata": {
  "kernelspec": {
   "display_name": "Python 3",
   "language": "python",
   "name": "python3"
  },
  "language_info": {
   "codemirror_mode": {
    "name": "ipython",
    "version": 3
   },
   "file_extension": ".py",
   "mimetype": "text/x-python",
   "name": "python",
   "nbconvert_exporter": "python",
   "pygments_lexer": "ipython3",
   "version": "3.8.5"
  }
 },
 "nbformat": 4,
 "nbformat_minor": 4
}
